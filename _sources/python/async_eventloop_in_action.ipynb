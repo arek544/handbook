{
 "cells": [
  {
   "cell_type": "markdown",
   "metadata": {},
   "source": [
    "# Asyncio Event Loop in Action "
   ]
  },
  {
   "cell_type": "markdown",
   "metadata": {},
   "source": [
    "Asynchronous tasks are not parallel. That caveat has to be stated upfront. However everytime when our code reaches some external dependency like response from database or web resource we don't have to hang untill we get our result. In case we have something other to do (and possibly another task that waits to be replied) we can put all those tasks in asyncio event loop. But first let's see the case in synchronous scenario."
   ]
  },
  {
   "cell_type": "code",
   "execution_count": 7,
   "metadata": {},
   "outputs": [],
   "source": [
    "import asyncio\n",
    "import time\n",
    "from asyncio import sleep as asleep\n",
    "\n",
    "\n",
    "def process(n):\n",
    "    global start_sync\n",
    "    time.sleep(n)\n",
    "    print(f'done process {n} - {time.time()-start_sync:.1f} seconds from start')\n",
    "    return\n",
    "\n",
    "\n",
    "def run_processes():\n",
    "    process(2)\n",
    "    process(3)\n",
    "    process(4)\n",
    "    return"
   ]
  },
  {
   "cell_type": "markdown",
   "metadata": {},
   "source": [
    "For now we will ignore global variable and the print statement. Process is basically some function that runs exactly n seconds. This might imitate waiting for some database response. We will also introduce function that runs three processes one by one. This should take 2s + 3s + 4s = 9s. To see how long it takes for each process to end I will let them use global variable `start_sync`. Just before returning every function will print its duration. Example is pretty straight forward:"
   ]
  },
  {
   "cell_type": "code",
   "execution_count": 8,
   "metadata": {},
   "outputs": [
    {
     "name": "stdout",
     "output_type": "stream",
     "text": [
      "done process 2 - 2.0 seconds from start\n",
      "done process 3 - 5.0 seconds from start\n",
      "done process 4 - 9.0 seconds from start\n",
      "SYNC TIME:  9.0\n"
     ]
    }
   ],
   "source": [
    "start_sync = time.time()\n",
    "run_processes()\n",
    "end_sync = time.time()\n",
    "\n",
    "print('SYNC TIME: ', f'{end_sync - start_sync:.1f}')"
   ]
  },
  {
   "cell_type": "markdown",
   "metadata": {},
   "source": [
    "Now let's change `process` to `aprocess` which is asynchronous. It also has some sleeping to do, but while it is doing it, await statement lets our program go somewhere else. We will also run these `aprocesses` but we will put them into event loop using `asyncio.gather()` and `asyncio.run()`."
   ]
  },
  {
   "cell_type": "code",
   "execution_count": 9,
   "metadata": {},
   "outputs": [],
   "source": [
    "async def aprocess(n):\n",
    "    global start_async\n",
    "    await asleep(n)\n",
    "    print(f'done async process {n} - {time.time()-start_async:.1f} seconds from start')\n",
    "    return\n",
    "\n",
    "\n",
    "async def run_aprocesses():\n",
    "    await asyncio.gather(\n",
    "        aprocess(2),\n",
    "        aprocess(3),\n",
    "        aprocess(4)\n",
    "    )\n",
    "    return"
   ]
  },
  {
   "cell_type": "markdown",
   "metadata": {},
   "source": [
    "And analogously we will report its execution but this time we have to await our gathering function since it is also awaiting for every task to return back to it. Important note here. In jupyter notebook, there is already running event loop, so for now instead of `asyncio.run()` we will just `await`. In other words, we don't have to create new event loop because jupyter started one for us."
   ]
  },
  {
   "cell_type": "code",
   "execution_count": 12,
   "metadata": {},
   "outputs": [
    {
     "name": "stdout",
     "output_type": "stream",
     "text": [
      "done async process 2 - 2.0 seconds from start\n",
      "done async process 3 - 3.0 seconds from start\n",
      "done async process 4 - 4.0 seconds from start\n",
      "ASYNC TIME:  4.0\n"
     ]
    }
   ],
   "source": [
    "start_async = time.time()\n",
    "await run_aprocesses()  # just await (because of jupyter notebook)\n",
    "end_async = time.time()\n",
    "\n",
    "print('ASYNC TIME: ', f'{end_async - start_async:.1f}')"
   ]
  },
  {
   "cell_type": "markdown",
   "metadata": {},
   "source": [
    "So as you can see, `aprocesses` started almost simultaneously (important word is almost). Every one of them encountered await statement and returned back to loop so it could trigger next task and then it was constantly revisiting tasks to see how they are doing. Hence the total asynchronous time is approximately the same as time of the longest task. To run whole example outside of jupyter notebook I will paste the whole example. See the difference in actually using `asyncio.run()` this time."
   ]
  },
  {
   "cell_type": "code",
   "execution_count": null,
   "metadata": {},
   "outputs": [],
   "source": [
    "import asyncio\n",
    "import time\n",
    "from asyncio import sleep as asleep\n",
    "\n",
    "\n",
    "def process(n):\n",
    "    global start_sync\n",
    "    time.sleep(n)\n",
    "    print(f'done process {n} - {time.time()-start_sync:.1f} seconds from start')\n",
    "    return\n",
    "\n",
    "\n",
    "def run_processes():\n",
    "    process(2)\n",
    "    process(3)\n",
    "    process(4)\n",
    "    return\n",
    "\n",
    "\n",
    "async def aprocess(n):\n",
    "    global start_async\n",
    "    await asleep(n)\n",
    "    print(f'done async process {n} - {time.time()-start_async:.1f} seconds from start')\n",
    "    return\n",
    "\n",
    "\n",
    "async def run_aprocesses():\n",
    "    await asyncio.gather(\n",
    "        aprocess(2),\n",
    "        aprocess(3),\n",
    "        aprocess(4)\n",
    "    )\n",
    "    return\n",
    "\n",
    "\n",
    "if __name__ == '__main__':\n",
    "    start_sync = time.time()\n",
    "    run_processes()\n",
    "    end_sync = time.time()\n",
    "\n",
    "    print('SYNC TIME: ', f'{end_sync - start_sync:.1f}')\n",
    "\n",
    "    start_async = time.time()\n",
    "    asyncio.run(run_aprocesses())\n",
    "    end_async = time.time()\n",
    "\n",
    "    print('ASYNC TIME: ', f'{end_async - start_async:.1f}')"
   ]
  },
  {
   "cell_type": "markdown",
   "metadata": {},
   "source": [
    "In next example let's see how we can look into event loop. Let's create global logging dictionary called `LOGGER` and global counter called `RUNNING`. We will use this variables to let every task write to it."
   ]
  },
  {
   "cell_type": "code",
   "execution_count": 23,
   "metadata": {},
   "outputs": [],
   "source": [
    "LOGGER = {}\n",
    "RUNNING = 0\n",
    "\n",
    "\n",
    "async def some_work(name, t):\n",
    "    global LOGGER, RUNNING\n",
    "    start = time.time()\n",
    "    LOGGER.update({name: 'ONGOING'})\n",
    "    RUNNING += 1\n",
    "    await asleep(t)\n",
    "    LOGGER.update({name: f'duration: {time.time()-start:.2f}'})\n",
    "    RUNNING -= 1\n",
    "    return"
   ]
  },
  {
   "cell_type": "markdown",
   "metadata": {},
   "source": [
    "Here make note that we have sandwitched awaitable action so it reports its timings to global variables. Now we will add another task that will report back to us, what is happening in the event loop every 2 seconds."
   ]
  },
  {
   "cell_type": "code",
   "execution_count": 24,
   "metadata": {},
   "outputs": [],
   "source": [
    "async def read_statuses():\n",
    "    start_async = time.time()\n",
    "    while True:\n",
    "        print(f'uptime: {time.time() - start_async:.2f}')\n",
    "        print(f'Events in the loop: {LOGGER}')\n",
    "        print(f'Still running: {RUNNING}\\n')\n",
    "\n",
    "        if not RUNNING: # important to end this coroutine after everything else returned\n",
    "            break\n",
    "\n",
    "        await asleep(2)"
   ]
  },
  {
   "cell_type": "markdown",
   "metadata": {},
   "source": [
    "Now we will run everything in one event loop."
   ]
  },
  {
   "cell_type": "code",
   "execution_count": 22,
   "metadata": {},
   "outputs": [],
   "source": [
    "tasks_to_complete = [some_work('cleaning', 3),\n",
    "                     some_work('reading', 7),\n",
    "                     some_work('writing', 14)]\n",
    "tasks_to_complete.extend([read_statuses()]) # remember to add our reader to task list!\n",
    "\n",
    "loop = asyncio.new_event_loop()\n",
    "asyncio.set_event_loop(loop)  # Python 3.10+ specific\n",
    "loop.run_until_complete(asyncio.gather(*tasks_to_complete))\n",
    "loop.close()"
   ]
  },
  {
   "cell_type": "markdown",
   "metadata": {},
   "source": [
    "This one might not work in jupyter notebook so I will paste you what to expect in any other environment:"
   ]
  },
  {
   "cell_type": "markdown",
   "metadata": {},
   "source": [
    "uptime: 0.00\n",
    "Events in the loop: {'cleaning': 'ONGOING', 'reading': 'ONGOING', 'writing': 'ONGOING'}\n",
    "Still running: 3\n",
    "\n",
    "\n",
    "uptime: 2.00\n",
    "Events in the loop: {'cleaning': 'ONGOING', 'reading': 'ONGOING', 'writing': 'ONGOING'}\n",
    "Still running: 3\n",
    "\n",
    "\n",
    "uptime: 4.00\n",
    "Events in the loop: {'cleaning': 'duration: 3.00', 'reading': 'ONGOING', 'writing': 'ONGOING'}\n",
    "Still running: 2\n",
    "\n",
    "\n",
    "uptime: 6.00\n",
    "Events in the loop: {'cleaning': 'duration: 3.00', 'reading': 'ONGOING', 'writing': 'ONGOING'}\n",
    "Still running: 2\n",
    "\n",
    "\n",
    "uptime: 8.01\n",
    "Events in the loop: {'cleaning': 'duration: 3.00', 'reading': 'duration: 7.00', 'writing': 'ONGOING'}\n",
    "Still running: 1\n",
    "\n",
    "\n",
    "uptime: 10.01\n",
    "Events in the loop: {'cleaning': 'duration: 3.00', 'reading': 'duration: 7.00', 'writing': 'ONGOING'}\n",
    "Still running: 1\n",
    "\n",
    "\n",
    "uptime: 12.01\n",
    "Events in the loop: {'cleaning': 'duration: 3.00', 'reading': 'duration: 7.00', 'writing': 'ONGOING'}\n",
    "Still running: 1\n",
    "\n",
    "\n",
    "uptime: 14.01\n",
    "Events in the loop: {'cleaning': 'duration: 3.00', 'reading': 'duration: 7.00', 'writing': 'duration: 14.00'}\n",
    "Still running: 0"
   ]
  },
  {
   "cell_type": "markdown",
   "metadata": {},
   "source": [
    "As you can see, we started three tasks and every two seconds we were reading the current status of event loop contents."
   ]
  }
 ],
 "metadata": {
  "kernelspec": {
   "display_name": "venv1",
   "language": "python",
   "name": "python3"
  },
  "language_info": {
   "codemirror_mode": {
    "name": "ipython",
    "version": 3
   },
   "file_extension": ".py",
   "mimetype": "text/x-python",
   "name": "python",
   "nbconvert_exporter": "python",
   "pygments_lexer": "ipython3",
   "version": "3.9.6"
  }
 },
 "nbformat": 4,
 "nbformat_minor": 2
}
