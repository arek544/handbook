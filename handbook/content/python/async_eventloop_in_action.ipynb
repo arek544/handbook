{
 "cells": [
  {
   "cell_type": "markdown",
   "metadata": {},
   "source": [
    "# Asyncio Event Loop in Action "
   ]
  },
  {
   "cell_type": "markdown",
   "metadata": {},
   "source": [
    "Having some basic knowledge about `asyncio` let's take a deeper look at event loop running our coroutines (basically awaitable functions in this context). To see this we will let every task update global dictionary and a simple counter.\n",
    "Note that some executions in `asyncio` that are commented out, also work, but not in jupyter notebook, since jupyter starts event loop for us at its launch. To run this code outside jupyter, uncomment alternative executions. "
   ]
  },
  {
   "cell_type": "code",
   "execution_count": 11,
   "metadata": {},
   "outputs": [],
   "source": [
    "LOGGER = {}\n",
    "RUNNING = 0\n",
    "\n",
    "\n",
    "async def some_work(name, t):\n",
    "    global LOGGER, RUNNING\n",
    "    start = time.time()\n",
    "    LOGGER.update({name: 'ONGOING'})\n",
    "    RUNNING += 1\n",
    "    await asleep(t)\n",
    "    LOGGER.update({name: f'duration: {time.time()-start:.2f}'})\n",
    "    RUNNING -= 1\n",
    "    return name"
   ]
  },
  {
   "cell_type": "markdown",
   "metadata": {},
   "source": [
    "Here make note that we have sandwitched awaitable action so it reports its timings to global variables. Now we will add another task that will report back to us, what is happening in the event loop every 2 seconds."
   ]
  },
  {
   "cell_type": "code",
   "execution_count": 12,
   "metadata": {},
   "outputs": [],
   "source": [
    "async def read_statuses():\n",
    "    start_async = time.time()\n",
    "    while True:\n",
    "        print(f'uptime: {time.time() - start_async:.2f}')\n",
    "        print(f'Events in the loop: {LOGGER}')\n",
    "        print(f'Still running: {RUNNING}\\n')\n",
    "\n",
    "        if not RUNNING: # important to end this coroutine after everything else returned\n",
    "            break\n",
    "\n",
    "        await asleep(2)\n",
    "\n",
    "    return 'reader'"
   ]
  },
  {
   "cell_type": "markdown",
   "metadata": {},
   "source": [
    "Now we will run everything in one event loop."
   ]
  },
  {
   "cell_type": "code",
   "execution_count": 14,
   "metadata": {},
   "outputs": [
    {
     "name": "stdout",
     "output_type": "stream",
     "text": [
      "uptime: 0.00\n",
      "Events in the loop: {'cleaning': 'ONGOING', 'reading': 'ONGOING', 'writing': 'ONGOING'}\n",
      "Still running: 3\n",
      "\n",
      "uptime: 2.00\n",
      "Events in the loop: {'cleaning': 'ONGOING', 'reading': 'ONGOING', 'writing': 'ONGOING'}\n",
      "Still running: 3\n",
      "\n",
      "uptime: 4.00\n",
      "Events in the loop: {'cleaning': 'duration: 3.00', 'reading': 'ONGOING', 'writing': 'ONGOING'}\n",
      "Still running: 2\n",
      "\n",
      "uptime: 6.00\n",
      "Events in the loop: {'cleaning': 'duration: 3.00', 'reading': 'ONGOING', 'writing': 'ONGOING'}\n",
      "Still running: 2\n",
      "\n",
      "uptime: 8.01\n",
      "Events in the loop: {'cleaning': 'duration: 3.00', 'reading': 'duration: 7.00', 'writing': 'ONGOING'}\n",
      "Still running: 1\n",
      "\n",
      "uptime: 10.01\n",
      "Events in the loop: {'cleaning': 'duration: 3.00', 'reading': 'duration: 7.00', 'writing': 'duration: 10.00'}\n",
      "Still running: 0\n",
      "\n"
     ]
    }
   ],
   "source": [
    "tasks_to_complete = [some_work('cleaning', 3),\n",
    "                     some_work('reading', 7),\n",
    "                     some_work('writing', 10)]\n",
    "tasks_to_complete.extend([read_statuses()]) # remember to add our reader to task list!\n",
    "\n",
    "# outside jupyter:\n",
    "# loop = asyncio.new_event_loop()\n",
    "# asyncio.set_event_loop(loop)  # Python 3.10+ specific\n",
    "# loop.run_until_complete(asyncio.gather(*tasks_to_complete))\n",
    "# loop.close()\n",
    "\n",
    "results = await asyncio.gather(*tasks_to_complete)"
   ]
  },
  {
   "cell_type": "markdown",
   "metadata": {},
   "source": [
    "At the beginning we put four tasks in the loop. One of them spits out what is happening every two seconds. Other tasks at first has `status`: `ONGOING`, which means they have been started but since they hit `await` our program doesn't have to focus here, it can move to next task (or in other scenario it can redraw GUI so our application is not frozen because we wait for database response). Loop also does remember that every awaitable task at some point will get the response and will be ready to continue, so it revisits them to see if that is the case. After four seconds we can see that task that waited 3 seconds has already been revisited and executed (its status has changed). In real-life scenario we wouldn't know how long it will take but event loop will take care of it anyways. At some point in time every task has ended and we stop reading. The loop is still running but there is no task to execute. We can also inspect results from tasks but they ofcourse don't have to return anything."
   ]
  },
  {
   "cell_type": "code",
   "execution_count": 15,
   "metadata": {},
   "outputs": [
    {
     "name": "stdout",
     "output_type": "stream",
     "text": [
      "['cleaning', 'reading', 'writing', 'reader']\n"
     ]
    }
   ],
   "source": [
    "print(results)"
   ]
  }
 ],
 "metadata": {
  "kernelspec": {
   "display_name": "venv1",
   "language": "python",
   "name": "python3"
  },
  "language_info": {
   "codemirror_mode": {
    "name": "ipython",
    "version": 3
   },
   "file_extension": ".py",
   "mimetype": "text/x-python",
   "name": "python",
   "nbconvert_exporter": "python",
   "pygments_lexer": "ipython3",
   "version": "3.9.6"
  }
 },
 "nbformat": 4,
 "nbformat_minor": 2
}
